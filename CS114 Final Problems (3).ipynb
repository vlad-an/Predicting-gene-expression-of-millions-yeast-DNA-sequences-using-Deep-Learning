{
 "cells": [
  {
   "cell_type": "markdown",
   "metadata": {},
   "source": [
    "### Problem 1. Extreme Temperatures (#Probability, #ModelSelection)"
   ]
  },
  {
   "cell_type": "markdown",
   "metadata": {},
   "source": [
    "#### Part 1\n",
    "We should first find the probability that a record high occurs in a specific year. Because the temperature for each year are sampled i.i.ds from a continuous distribution, there is equal probability of each year having the greatest temperature in all years up to and including n. This probability is independent of the distribution because it is universal for every continuous distribution.\\\n",
    "$I_{a_n}: record\\ high\\ in\\ year\\ n$\\\n",
    "$E(I_{a_n}) = P(a_n) = 1/n$\n",
    "\n",
    "To compute the expected number of record highs, we can sum the probability of having a record high in each year over all 100 years.\\\n",
    "$H: number\\ of\\ record\\ highs$\\\n",
    "$E(H) = \\sum^n_{i=1} 1/n$\n",
    "\n",
    "This sum is identical to the harmonic series, and thus we are able to easily evaluate it. Our solution is generalisable to record lows as well due to the universality of continuous distributions discussed above (it is equally likely for any of n years to have the lowest temperature).\\\n",
    "$E(H) = ln(n) + \\lambda =  ln(100) + 0.577 = 5.182$\\\n",
    "$L: number\\ of\\ record\\ lows$\\\n",
    "$E(L) = 5.182$\n",
    "\n",
    "Because we want to find the number of years in which a record occurs (high or low), we can just sum the expected record lows and record highs. There will never be a year in which there is both a record high and a record low except 2001, which must have both. To account for this, we must subtract 1 from the sum of the expected highs and lows.\\\n",
    "$R: number\\ of\\ record\\ years$\\\n",
    "$E(R) = E(L) + E(H) - 1 = 5.182 + 5.182 - 1 = 9.36$"
   ]
  },
  {
   "cell_type": "markdown",
   "metadata": {},
   "source": [
    "#### Part 2\n",
    "To get the probability that the first record high (bar 2001) comes after year n, we can find the probability that it does not come before or at year n. To do this, we can multiply the probabilities that it does not happen in year 2, does not happen in year 3, and so on until year n. We use multiplication here because we are considering the combination of events ('and'), and the highs of each year are independent.\\\n",
    "$P(a_n') = 1-P(a_n) = 1-1/n = (n-1)/n$\\\n",
    "$P(N>n) = P(a_2', a_3',...,a_n') = P(a_2')P(a_3')...P(a_n')$\n",
    "\n",
    "The product of terms equates to (n-1) factorial from multiplication of integers up to (n-1) in the numerator, and n factorial from multiplication of integers up to n in the denominator. To find the PMF we take the probability of between n and n+1 as per the definition.\\\n",
    "$P(N>n) = \\prod_{i=2}^n{(n-1)/n} = 1/2 * 2/3 *...*(n-1)/n = (n-1)!/n! = 1/n$\\\n",
    "$f(N) = P(n+1>N>n) = 1/n-1/(n+1) = 1/(n(n+1))$"
   ]
  },
  {
   "cell_type": "markdown",
   "metadata": {},
   "source": [
    "#### Part 3"
   ]
  },
  {
   "cell_type": "code",
   "execution_count": 118,
   "metadata": {},
   "outputs": [
    {
     "name": "stdout",
     "output_type": "stream",
     "text": [
      "Experimental mean number of record highs/lows: 9.3626\n",
      "Theoretical expected number of record highs/lows: 9.364770371976183\n"
     ]
    },
    {
     "data": {
      "image/png": "[encoded data removed]",
      "text/plain": [
       "<Figure size 432x288 with 1 Axes>"
      ]
     },
     "metadata": {
      "needs_background": "light"
     },
     "output_type": "display_data"
    }
   ],
   "source": [
    "import scipy.stats as sts\n",
    "import numpy as np\n",
    "import matplotlib.pyplot as plt\n",
    "from math import factorial\n",
    "\n",
    "trials = 10000\n",
    "n=100\n",
    "list_mins = []\n",
    "list_maxes = []\n",
    "first_highs = []\n",
    "\n",
    "for _ in range(trials):\n",
    "    # arbitrary continuous distribution\n",
    "    temps = sts.norm().rvs(n)\n",
    "    max_temp = float('-inf')\n",
    "    maxes = 0\n",
    "    min_temp = float('inf')\n",
    "    mins = 0\n",
    "    high_recorded = False\n",
    "    \n",
    "    # iterate over temperatures, adding to max and min when record occur\n",
    "    for t in range(len(temps)):\n",
    "        if temps[t] < min_temp:\n",
    "            mins += 1\n",
    "            min_temp = temps[t]\n",
    "            \n",
    "        if temps[t] > max_temp:\n",
    "            maxes += 1\n",
    "            max_temp = temps[t]\n",
    "            \n",
    "            # record first highs for each trial\n",
    "            if t != 0 and high_recorded == False:\n",
    "                high_recorded = True\n",
    "                first_highs.append(t)\n",
    "            \n",
    "    list_maxes.append(maxes)\n",
    "    list_mins.append(mins)\n",
    "    \n",
    "print('Experimental mean number of record highs/lows:', np.mean(list_maxes)+np.mean(list_mins)-1)\n",
    "print('Theoretical expected number of record highs/lows:', 2*(np.log(n) + 0.577215)-1)\n",
    "\n",
    "x = np.arange(1, 100, 1)\n",
    "plt.bar(x, [first_highs.count(i)/trials for i in x], alpha=0.7, label='Experimental')\n",
    "plt.scatter(x, [1/(n*(n+1)) for n in x], label='Theoretical', c='red', s=10)\n",
    "plt.legend()\n",
    "plt.title('PMF of First Record High Temperature After 2001')\n",
    "plt.xlabel('Years after 2001')\n",
    "plt.ylabel('PMF')\n",
    "plt.xlim([0,25])\n",
    "plt.show()"
   ]
  },
  {
   "cell_type": "markdown",
   "metadata": {},
   "source": [
    "#### Part 4\n",
    "We could take several time frames (eg. 1800-1899, 1900-1999, etc.) and look at the distribution of the first record highs after each year in the time frames (eg. first high after 1800, first high after 1801...). These distributions could then be compared to determine whether or not they are significantly different from the above PMF distribution. If the mass is skewed further to the left, it is likely that global warming is occuring as the years before a record high are decreasing. We can also compare the distributions for earlier time frames to later ones. If global warming is occuring, we would also expect more mass to lie to the left of the distribution. We should be careful here about the cyclical nature of global warming, and ensure that our time frames account for this.\n",
    "\n",
    "We could use Bayesian model selection, taking this model (which assumes no temperature change over time), and a second model (that assumes temperature increase to some extent). We could use data from the last century to compute a likelihood for both models. We would use a prior of 0.5 for both (as we have no reason to prefer either), and use this to calculate a posterior for both models. If the posterior was greater for the model that assumed temperature increase over time, we may conclude that global warming is occuring.\n",
    "\n",
    "We could also measure the number of record highs over each time frame, and compare these values to 5.18, the expected number of highs in a 100 year period. If the number of highs for each decade is increasing, then we could predict global warming is happening."
   ]
  },
  {
   "cell_type": "markdown",
   "metadata": {},
   "source": [
    "### Problem 2. Starry Night (#ParameterEstimation)"
   ]
  },
  {
   "cell_type": "markdown",
   "metadata": {},
   "source": [
    "We can use Bayesian parameter estimation to determine a 95% credible interval for the value for the length of the square s. Because we have no knowledge about the value of s to begin with, we can use a uniform prior. Assuming coordinates are in metres, we take a to be 0.1m as the smallest a window could likely be, and b to be 2m, the largest a window is likely to be. We do not incorporate our knowledge of the data as this is the prior.\n",
    "\n",
    "The likelihood of a uniform distribution is given by $\\prod_{i=1}^n {1/(b-a)}$. Because we are working in two dimensions (bivariate uniform), we change this likelihood to $\\prod_{i=1}^n {1/A} $, where $A$ is the area of the region (in this case $s^2$). We can then to simplify the likelihood function to $1/s^{2n}$. This, however, is only valid in the case that the data points lie within the square. If $s$ is smaller than the greatest distance between two data points along the x or y axis, the likelihood function must be 0, as the probability of obtaining this data point given s is 0. This would lead to a posterior of 0 also for such values (as you can see from the graphs below).\n",
    "\n",
    "We can use computational tools to compute the posterior distribution, taking the credible interval as the interval between which 95% of the distribution lies. From the below results, we see that the posterior probability that $s$ lies within the interval [0.776, 0.881] is 0.954."
   ]
  },
  {
   "cell_type": "code",
   "execution_count": 119,
   "metadata": {},
   "outputs": [
    {
     "name": "stdout",
     "output_type": "stream",
     "text": [
      "The parameter s is in the interval [0.776, 0.881] with probability 0.954\n"
     ]
    },
    {
     "data": {
      "image/png": "[encoded data removed]",
      "text/plain": [
       "<Figure size 864x288 with 3 Axes>"
      ]
     },
     "metadata": {
      "needs_background": "light"
     },
     "output_type": "display_data"
    }
   ],
   "source": [
    "x = [5.079, 4.341, 4.777, 4.717, 4.484, 4.995, 4.924, 4.530, 4.774, 4.658, 4.302, 4.341, 4.348]\n",
    "y = [1.493, 1.657, 1.811, 1.28, 1.936, 1.444, 1.922, 1.72, 1.525, 2.049, 1.439, 1.971, 1.919]\n",
    "n = len(x)\n",
    "points = 400\n",
    "\n",
    "mins = 0.1 # min distance between points\n",
    "maxs = 2 # qualitative estimate\n",
    "s_values = np.linspace(mins, maxs, points)\n",
    "prior = sts.uniform(mins, maxs).pdf(s_values) # P(s)\n",
    "\n",
    "rangex = max(x)-min(x)\n",
    "rangey = max(y)-min(y)\n",
    "likelihood = []\n",
    "\n",
    "for i in range(points):\n",
    "    \n",
    "    # pdf if square not large enough to fit values\n",
    "    if s_values[i] < rangex or s_values[i] < rangey:\n",
    "        likelihood.append(0)\n",
    "        \n",
    "    # pdf if square large enough to fit values\n",
    "    else:\n",
    "        likelihood.append((1/s_values[i])**(2*n))\n",
    "\n",
    "# compute posterior using trapz integration\n",
    "from scipy.integrate import trapz\n",
    "product = prior * likelihood\n",
    "marginal_likelihood = trapz(product, s_values)\n",
    "posterior = product / marginal_likelihood\n",
    "\n",
    "\n",
    "# prior plot\n",
    "plt.figure(figsize=(12, 4))\n",
    "plt.subplot(1, 3, 1)\n",
    "plt.title('Prior')\n",
    "plt.xlabel('s')\n",
    "plt.plot(s_values, prior)\n",
    "\n",
    "# likelihood plot\n",
    "plt.subplot(1, 3, 2)\n",
    "plt.title('Likelihood')\n",
    "plt.xlabel('s')\n",
    "plt.plot(s_values, likelihood)\n",
    "\n",
    "# posterior plot\n",
    "plt.subplot(1, 3, 3)\n",
    "plt.title('Posterior')\n",
    "plt.xlabel('s')\n",
    "plt.plot(s_values, posterior)\n",
    "\n",
    "# change indexes to give 95% credible interval\n",
    "index = [142, 164]\n",
    "interval = [s_values[index[0]], s_values[index[1]]]\n",
    "interval_probability = trapz(posterior[index[0]:index[1]+1], s_values[index[0]:index[1]+1])\n",
    "print(f'The parameter s is in the interval [{interval[0]:.3f}, {interval[1]:.3f}] 'f'with probability {interval_probability:.3f}')\n",
    "plt.axvline(interval[0], color='red', linestyle=':', label='95% credible interval')\n",
    "plt.axvline(interval[1], color='red', linestyle=':')\n",
    "plt.legend()\n",
    "plt.show()"
   ]
  },
  {
   "cell_type": "markdown",
   "metadata": {},
   "source": [
    "The above conclusions are based solely on the side of the square, $s$. However, we should also incorporate consider the centre of the square given by the coordinates $(x,y)$. To find the posterior over $s$ ($P(s|data)$), we should:\n",
    "\n",
    "1. Find the prior distribution: $P(s, x, y)$. This should be the product of three uniform distributions due to the (assumed) independence of $x$, $y$, and $s$: $P(x)P(y)P(s)$. We can assume large values for the upper bound of the height and width of the walls in our house (150m).\\\n",
    "$S \\sim Uniform(0.1, 2)$\\\n",
    "$X \\sim Uniform(0, 150)$\\\n",
    "$Y \\sim Uniform(0, 150)$\\\n",
    "$P(x)P(y)P(s) = 1/(2-0.1) * 1/(150-0) * 1/(150-0) = 1/42750$\n",
    "\n",
    "\n",
    "2. Find likelihood distribution: $P(data|s, x, y)$. This is given by the formula used above: $1/s^{2n}$. However, we must account for the conditions on which this would be valid: $x-s/2 \\le data_x \\le x+s/2$ and $y-s/2 \\le data_y \\le y+s/2$ (must hold for all $x$ and $y$ coordinates for the likelihood to have a non-zero value). \n",
    "\n",
    "\n",
    "3. Find marginal probability: $P(data)$. We can do this by integrating (likelihood * prior) over $x$, $y$, and $s$ over the bounds on which they are valid: $\\int_0^{150} \\int_0^{150} \\int_{0.1}^2 1/s^{2n} * 1/42750\\ ds\\ dx\\ dy$, taking into consideration that the likelihood is 0 for certain values.\n",
    "\n",
    "\n",
    "4. Find the posterior over $x$, $y$, and $s$: $P(s, x, y|data)$. We do this by computing: (likelihood * prior / marginal).\n",
    "\n",
    "\n",
    "5. Find the posterior over $s$ only: $P(s|data)$. We can integrate out $x$ and $y$ from the posterior PDF $f(s, x, y|data)$: $\\int_0^{150} \\int_0^{150} f(s, x, y|data)\\ dx\\ dy$."
   ]
  },
  {
   "cell_type": "markdown",
   "metadata": {},
   "source": [
    "### References\n",
    "Cambridge University. (n.d.). 10 -BIVARIATE DISTRIBUTIONS.\n",
    "https://www.cl.cam.ac.uk/teaching/0708/Probabilty/prob10.pdf\n",
    "\n",
    "Scheffler, K. (2022). CS114 Session 14 - [8.1] Synthesis: Parameter estimation. Forum. https://forum.minerva.edu/app/courses/2109/sections/8431/classes/63120 \n",
    "\n",
    "Wikimedia Foundation. (2022, March 15). Harmonic series (mathematics). Wikipedia. https://en.wikipedia.org/wiki/Harmonic_series_(mathematics) \n",
    "\n",
    "Zach. (2021, March 2). Maximum likelihood estimation (MLE) for a uniform distribution. Statology.\n",
    "https://www.statology.org/mle-uniform-distribution/ "
   ]
  }
 ],
 "metadata": {
  "kernelspec": {
   "display_name": "Python 3",
   "language": "python",
   "name": "python3"
  },
  "language_info": {
   "codemirror_mode": {
    "name": "ipython",
    "version": 3
   },
   "file_extension": ".py",
   "mimetype": "text/x-python",
   "name": "python",
   "nbconvert_exporter": "python",
   "pygments_lexer": "ipython3",
   "version": "3.8.3"
  }
 },
 "nbformat": 4,
 "nbformat_minor": 5
}
